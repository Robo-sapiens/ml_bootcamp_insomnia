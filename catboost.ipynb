{
 "cells": [
  {
   "cell_type": "markdown",
   "metadata": {
    "id": "3a3f2ff3"
   },
   "source": [
    "# Setup"
   ]
  },
  {
   "cell_type": "code",
   "execution_count": 1,
   "metadata": {
    "execution": {
     "iopub.execute_input": "2021-12-04T15:07:47.288500Z",
     "iopub.status.busy": "2021-12-04T15:07:47.287794Z",
     "iopub.status.idle": "2021-12-04T15:07:48.570501Z",
     "shell.execute_reply": "2021-12-04T15:07:48.569594Z",
     "shell.execute_reply.started": "2021-12-04T15:07:47.288371Z"
    },
    "id": "1bd0552c"
   },
   "outputs": [],
   "source": [
    "import numpy as np\n",
    "import pandas as pd\n",
    "import matplotlib.pyplot as plt\n",
    "import seaborn as sns\n",
    "from sklearn.model_selection import train_test_split"
   ]
  },
  {
   "cell_type": "code",
   "execution_count": 2,
   "metadata": {
    "execution": {
     "iopub.execute_input": "2021-12-04T15:07:56.592961Z",
     "iopub.status.busy": "2021-12-04T15:07:56.592441Z",
     "iopub.status.idle": "2021-12-04T15:07:56.831011Z",
     "shell.execute_reply": "2021-12-04T15:07:56.830263Z",
     "shell.execute_reply.started": "2021-12-04T15:07:56.592919Z"
    },
    "id": "b276ecfd"
   },
   "outputs": [],
   "source": [
    "train = pd.read_csv('data/TRAIN.csv')\n",
    "test = pd.read_csv('data/TEST.csv')\n",
    "sample_submission = pd.read_csv('data/sample_submission.csv')"
   ]
  },
  {
   "cell_type": "code",
   "execution_count": 3,
   "metadata": {},
   "outputs": [],
   "source": [
    "# bins = [-np.inf, 30, 50, np.inf]\n",
    "\n",
    "# train['age'] = pd.cut(train['age'], bins, labels=False)\n",
    "# test['age'] = pd.cut(test['age'], bins, labels=False)"
   ]
  },
  {
   "cell_type": "code",
   "execution_count": 4,
   "metadata": {},
   "outputs": [],
   "source": [
    "# bins = [-np.inf, 30, 50, 60, 70, 80, 90, 100, np.inf]\n",
    "\n",
    "# train['weight'] = pd.cut(train['weight'], bins, labels=False)\n",
    "# test['weight'] = pd.cut(test['weight'], bins, labels=False)"
   ]
  },
  {
   "cell_type": "code",
   "execution_count": 5,
   "metadata": {},
   "outputs": [],
   "source": [
    "# bins = [-np.inf, 150, 160, 170, 185, np.inf]\n",
    "\n",
    "# train['height'] = pd.cut(train['height'], bins, labels=False)\n",
    "# test['height'] = pd.cut(test['height'], bins, labels=False)"
   ]
  },
  {
   "cell_type": "code",
   "execution_count": 6,
   "metadata": {},
   "outputs": [],
   "source": [
    "# fix values to limits\n",
    "\n",
    "test['lbp'] = np.where(test['lbp'] > 170, test['lbp'].median(), test['lbp'])\n",
    "test['lbp'] = np.where(test['lbp'] < 40, test['lbp'].median(), test['lbp'])\n",
    "\n",
    "train['lbp'] = np.where(train['lbp'] > 170, train['lbp'].median(), train['lbp'])\n",
    "train['lbp'] = np.where(train['lbp'] < 40, train['lbp'].median(), train['lbp'])"
   ]
  },
  {
   "cell_type": "code",
   "execution_count": 7,
   "metadata": {},
   "outputs": [],
   "source": [
    "test['ubp'] = np.where(test['ubp'] > 200, test['ubp'].median(), test['ubp'])\n",
    "test['ubp'] = np.where(test['ubp'] < 50, test['ubp'].median(), test['ubp'])\n",
    "\n",
    "train['ubp'] = np.where(train['ubp'] > 200,  train['ubp'].median(), train['ubp'])\n",
    "train['ubp'] = np.where(train['ubp'] < 50,  train['ubp'].median(), train['ubp'])"
   ]
  },
  {
   "cell_type": "code",
   "execution_count": 8,
   "metadata": {},
   "outputs": [],
   "source": [
    "train['lbp'] = train['lbp'].astype(int)\n",
    "test['lbp'] = test['lbp'].astype(int)\n",
    "\n",
    "train['ubp'] = train['ubp'].astype(int)\n",
    "test['ubp'] = test['ubp'].astype(int)"
   ]
  },
  {
   "cell_type": "code",
   "execution_count": 9,
   "metadata": {},
   "outputs": [],
   "source": [
    "train['age'] = train['age'].astype(int)\n",
    "test['age'] = test['age'].astype(int)"
   ]
  },
  {
   "cell_type": "code",
   "execution_count": 10,
   "metadata": {},
   "outputs": [],
   "source": [
    "train['weight'] = np.where(train['weight'] > 100,  100, train['weight'])\n",
    "train['weight'] = np.where(train['weight'] < 50,  50, train['weight'])\n",
    "\n",
    "test['weight'] = np.where(test['weight'] > 100,  100, test['weight'])\n",
    "test['weight'] = np.where(test['weight'] < 50,  50, test['weight'])"
   ]
  },
  {
   "cell_type": "code",
   "execution_count": 11,
   "metadata": {},
   "outputs": [],
   "source": [
    "train['height'] = np.where(train['height'] > 180,  180, train['height'])\n",
    "train['height'] = np.where(train['height'] < 150,  150, train['height'])\n",
    "\n",
    "test['height'] = np.where(test['height'] > 180,  180, test['height'])\n",
    "test['height'] = np.where(test['height'] < 150,  150, test['height'])"
   ]
  },
  {
   "cell_type": "code",
   "execution_count": 12,
   "metadata": {},
   "outputs": [],
   "source": [
    "test['age'] = np.where(test['age'] < 40,  40, test['age'])\n",
    "train['age'] = np.where(train['age'] < 40,  40, train['age'])"
   ]
  },
  {
   "cell_type": "code",
   "execution_count": 13,
   "metadata": {},
   "outputs": [],
   "source": [
    "train['weight'] = train['weight'].astype(int)\n",
    "test['weight'] = test['weight'].astype(int)"
   ]
  },
  {
   "cell_type": "code",
   "execution_count": 14,
   "metadata": {},
   "outputs": [],
   "source": [
    "# bins = [-np.inf, 90, 100, 110, 120, 130, 140, 150, 180, np.inf]\n",
    "# label = 'ubp'\n",
    "\n",
    "# train[label] = pd.cut(train[label], bins, labels=False)\n",
    "# test[label] = pd.cut(test[label], bins, labels=False)"
   ]
  },
  {
   "cell_type": "code",
   "execution_count": 15,
   "metadata": {},
   "outputs": [],
   "source": [
    "# bins = [-np.inf, 70, 80, 90, np.inf]\n",
    "\n",
    "# train['lbp'] = pd.cut(train['lbp'], bins, labels=False)\n",
    "# test['lbp'] = pd.cut(test['lbp'], bins, labels=False)"
   ]
  },
  {
   "cell_type": "code",
   "execution_count": 16,
   "metadata": {
    "execution": {
     "iopub.execute_input": "2021-12-04T15:08:09.099200Z",
     "iopub.status.busy": "2021-12-04T15:08:09.098241Z",
     "iopub.status.idle": "2021-12-04T15:08:09.123955Z",
     "shell.execute_reply": "2021-12-04T15:08:09.123402Z",
     "shell.execute_reply.started": "2021-12-04T15:08:09.099141Z"
    },
    "id": "6ac51745"
   },
   "outputs": [
    {
     "name": "stdout",
     "output_type": "stream",
     "text": [
      "train, test, sample_submission shapes\n",
      "(70000, 13) (30000, 12) (30000, 2)\n"
     ]
    },
    {
     "data": {
      "text/html": [
       "<div>\n",
       "<style scoped>\n",
       "    .dataframe tbody tr th:only-of-type {\n",
       "        vertical-align: middle;\n",
       "    }\n",
       "\n",
       "    .dataframe tbody tr th {\n",
       "        vertical-align: top;\n",
       "    }\n",
       "\n",
       "    .dataframe thead th {\n",
       "        text-align: right;\n",
       "    }\n",
       "</style>\n",
       "<table border=\"1\" class=\"dataframe\">\n",
       "  <thead>\n",
       "    <tr style=\"text-align: right;\">\n",
       "      <th></th>\n",
       "      <th>id</th>\n",
       "      <th>age</th>\n",
       "      <th>weight</th>\n",
       "      <th>height</th>\n",
       "      <th>sex</th>\n",
       "      <th>stress</th>\n",
       "      <th>doctor</th>\n",
       "      <th>sport</th>\n",
       "      <th>pernicious_1</th>\n",
       "      <th>pernicious_2</th>\n",
       "      <th>ubp</th>\n",
       "      <th>lbp</th>\n",
       "      <th>insomnia</th>\n",
       "    </tr>\n",
       "  </thead>\n",
       "  <tbody>\n",
       "    <tr>\n",
       "      <th>0</th>\n",
       "      <td>0</td>\n",
       "      <td>50</td>\n",
       "      <td>62</td>\n",
       "      <td>168</td>\n",
       "      <td>2</td>\n",
       "      <td>1</td>\n",
       "      <td>1</td>\n",
       "      <td>1</td>\n",
       "      <td>0</td>\n",
       "      <td>0</td>\n",
       "      <td>110</td>\n",
       "      <td>80</td>\n",
       "      <td>0</td>\n",
       "    </tr>\n",
       "    <tr>\n",
       "      <th>1</th>\n",
       "      <td>1</td>\n",
       "      <td>55</td>\n",
       "      <td>85</td>\n",
       "      <td>156</td>\n",
       "      <td>1</td>\n",
       "      <td>3</td>\n",
       "      <td>1</td>\n",
       "      <td>1</td>\n",
       "      <td>0</td>\n",
       "      <td>0</td>\n",
       "      <td>140</td>\n",
       "      <td>90</td>\n",
       "      <td>1</td>\n",
       "    </tr>\n",
       "    <tr>\n",
       "      <th>2</th>\n",
       "      <td>2</td>\n",
       "      <td>51</td>\n",
       "      <td>64</td>\n",
       "      <td>165</td>\n",
       "      <td>1</td>\n",
       "      <td>3</td>\n",
       "      <td>1</td>\n",
       "      <td>0</td>\n",
       "      <td>0</td>\n",
       "      <td>0</td>\n",
       "      <td>130</td>\n",
       "      <td>70</td>\n",
       "      <td>1</td>\n",
       "    </tr>\n",
       "    <tr>\n",
       "      <th>3</th>\n",
       "      <td>3</td>\n",
       "      <td>48</td>\n",
       "      <td>82</td>\n",
       "      <td>169</td>\n",
       "      <td>2</td>\n",
       "      <td>1</td>\n",
       "      <td>1</td>\n",
       "      <td>1</td>\n",
       "      <td>0</td>\n",
       "      <td>0</td>\n",
       "      <td>150</td>\n",
       "      <td>100</td>\n",
       "      <td>1</td>\n",
       "    </tr>\n",
       "    <tr>\n",
       "      <th>4</th>\n",
       "      <td>4</td>\n",
       "      <td>47</td>\n",
       "      <td>56</td>\n",
       "      <td>156</td>\n",
       "      <td>1</td>\n",
       "      <td>1</td>\n",
       "      <td>1</td>\n",
       "      <td>0</td>\n",
       "      <td>0</td>\n",
       "      <td>0</td>\n",
       "      <td>100</td>\n",
       "      <td>60</td>\n",
       "      <td>0</td>\n",
       "    </tr>\n",
       "  </tbody>\n",
       "</table>\n",
       "</div>"
      ],
      "text/plain": [
       "   id  age  weight  height  sex  stress  doctor  sport  pernicious_1  \\\n",
       "0   0   50      62     168    2       1       1      1             0   \n",
       "1   1   55      85     156    1       3       1      1             0   \n",
       "2   2   51      64     165    1       3       1      0             0   \n",
       "3   3   48      82     169    2       1       1      1             0   \n",
       "4   4   47      56     156    1       1       1      0             0   \n",
       "\n",
       "   pernicious_2  ubp  lbp  insomnia  \n",
       "0             0  110   80         0  \n",
       "1             0  140   90         1  \n",
       "2             0  130   70         1  \n",
       "3             0  150  100         1  \n",
       "4             0  100   60         0  "
      ]
     },
     "execution_count": 16,
     "metadata": {},
     "output_type": "execute_result"
    }
   ],
   "source": [
    "print('train, test, sample_submission shapes')\n",
    "print(train.shape, test.shape, sample_submission.shape)\n",
    "train.head(5)"
   ]
  },
  {
   "cell_type": "markdown",
   "metadata": {
    "id": "55c0982a"
   },
   "source": [
    "# Data analysis"
   ]
  },
  {
   "cell_type": "code",
   "execution_count": 17,
   "metadata": {
    "execution": {
     "iopub.execute_input": "2021-12-04T15:09:12.535796Z",
     "iopub.status.busy": "2021-12-04T15:09:12.535259Z",
     "iopub.status.idle": "2021-12-04T15:09:12.574454Z",
     "shell.execute_reply": "2021-12-04T15:09:12.573453Z",
     "shell.execute_reply.started": "2021-12-04T15:09:12.535761Z"
    },
    "id": "20c0010b"
   },
   "outputs": [
    {
     "data": {
      "text/html": [
       "<div>\n",
       "<style scoped>\n",
       "    .dataframe tbody tr th:only-of-type {\n",
       "        vertical-align: middle;\n",
       "    }\n",
       "\n",
       "    .dataframe tbody tr th {\n",
       "        vertical-align: top;\n",
       "    }\n",
       "\n",
       "    .dataframe thead th {\n",
       "        text-align: right;\n",
       "    }\n",
       "</style>\n",
       "<table border=\"1\" class=\"dataframe\">\n",
       "  <thead>\n",
       "    <tr style=\"text-align: right;\">\n",
       "      <th></th>\n",
       "      <th>train_null_share</th>\n",
       "      <th>test_null_share</th>\n",
       "      <th>train_dtypes</th>\n",
       "      <th>train_mean</th>\n",
       "      <th>test_mean</th>\n",
       "    </tr>\n",
       "  </thead>\n",
       "  <tbody>\n",
       "    <tr>\n",
       "      <th>id</th>\n",
       "      <td>0.0</td>\n",
       "      <td>0.000000</td>\n",
       "      <td>int64</td>\n",
       "      <td>49972.419900</td>\n",
       "      <td>50062.686900</td>\n",
       "    </tr>\n",
       "    <tr>\n",
       "      <th>age</th>\n",
       "      <td>0.0</td>\n",
       "      <td>0.000000</td>\n",
       "      <td>int64</td>\n",
       "      <td>52.830729</td>\n",
       "      <td>52.796933</td>\n",
       "    </tr>\n",
       "    <tr>\n",
       "      <th>weight</th>\n",
       "      <td>0.0</td>\n",
       "      <td>0.000000</td>\n",
       "      <td>int64</td>\n",
       "      <td>73.716314</td>\n",
       "      <td>73.651100</td>\n",
       "    </tr>\n",
       "    <tr>\n",
       "      <th>height</th>\n",
       "      <td>0.0</td>\n",
       "      <td>0.000000</td>\n",
       "      <td>int64</td>\n",
       "      <td>164.408929</td>\n",
       "      <td>164.382700</td>\n",
       "    </tr>\n",
       "    <tr>\n",
       "      <th>sex</th>\n",
       "      <td>0.0</td>\n",
       "      <td>0.000000</td>\n",
       "      <td>int64</td>\n",
       "      <td>1.349571</td>\n",
       "      <td>1.353733</td>\n",
       "    </tr>\n",
       "    <tr>\n",
       "      <th>stress</th>\n",
       "      <td>0.0</td>\n",
       "      <td>0.000000</td>\n",
       "      <td>int64</td>\n",
       "      <td>1.366871</td>\n",
       "      <td>1.368033</td>\n",
       "    </tr>\n",
       "    <tr>\n",
       "      <th>doctor</th>\n",
       "      <td>0.0</td>\n",
       "      <td>0.000000</td>\n",
       "      <td>int64</td>\n",
       "      <td>1.226457</td>\n",
       "      <td>1.222700</td>\n",
       "    </tr>\n",
       "    <tr>\n",
       "      <th>sport</th>\n",
       "      <td>0.0</td>\n",
       "      <td>0.096567</td>\n",
       "      <td>int64</td>\n",
       "      <td>0.803729</td>\n",
       "      <td>0.805926</td>\n",
       "    </tr>\n",
       "    <tr>\n",
       "      <th>pernicious_1</th>\n",
       "      <td>0.0</td>\n",
       "      <td>0.101000</td>\n",
       "      <td>int64</td>\n",
       "      <td>0.088129</td>\n",
       "      <td>0.087838</td>\n",
       "    </tr>\n",
       "    <tr>\n",
       "      <th>pernicious_2</th>\n",
       "      <td>0.0</td>\n",
       "      <td>0.101033</td>\n",
       "      <td>int64</td>\n",
       "      <td>0.053771</td>\n",
       "      <td>0.054470</td>\n",
       "    </tr>\n",
       "    <tr>\n",
       "      <th>ubp</th>\n",
       "      <td>0.0</td>\n",
       "      <td>0.000000</td>\n",
       "      <td>int64</td>\n",
       "      <td>126.895171</td>\n",
       "      <td>126.932933</td>\n",
       "    </tr>\n",
       "    <tr>\n",
       "      <th>lbp</th>\n",
       "      <td>0.0</td>\n",
       "      <td>0.000000</td>\n",
       "      <td>int64</td>\n",
       "      <td>81.354200</td>\n",
       "      <td>81.402400</td>\n",
       "    </tr>\n",
       "    <tr>\n",
       "      <th>insomnia</th>\n",
       "      <td>0.0</td>\n",
       "      <td>NaN</td>\n",
       "      <td>int64</td>\n",
       "      <td>0.499700</td>\n",
       "      <td>NaN</td>\n",
       "    </tr>\n",
       "  </tbody>\n",
       "</table>\n",
       "</div>"
      ],
      "text/plain": [
       "              train_null_share  test_null_share train_dtypes    train_mean  \\\n",
       "id                         0.0         0.000000        int64  49972.419900   \n",
       "age                        0.0         0.000000        int64     52.830729   \n",
       "weight                     0.0         0.000000        int64     73.716314   \n",
       "height                     0.0         0.000000        int64    164.408929   \n",
       "sex                        0.0         0.000000        int64      1.349571   \n",
       "stress                     0.0         0.000000        int64      1.366871   \n",
       "doctor                     0.0         0.000000        int64      1.226457   \n",
       "sport                      0.0         0.096567        int64      0.803729   \n",
       "pernicious_1               0.0         0.101000        int64      0.088129   \n",
       "pernicious_2               0.0         0.101033        int64      0.053771   \n",
       "ubp                        0.0         0.000000        int64    126.895171   \n",
       "lbp                        0.0         0.000000        int64     81.354200   \n",
       "insomnia                   0.0              NaN        int64      0.499700   \n",
       "\n",
       "                 test_mean  \n",
       "id            50062.686900  \n",
       "age              52.796933  \n",
       "weight           73.651100  \n",
       "height          164.382700  \n",
       "sex               1.353733  \n",
       "stress            1.368033  \n",
       "doctor            1.222700  \n",
       "sport             0.805926  \n",
       "pernicious_1      0.087838  \n",
       "pernicious_2      0.054470  \n",
       "ubp             126.932933  \n",
       "lbp              81.402400  \n",
       "insomnia               NaN  "
      ]
     },
     "execution_count": 17,
     "metadata": {},
     "output_type": "execute_result"
    }
   ],
   "source": [
    "feat_research = pd.DataFrame(train.isna().sum() / train.shape[0], columns=['train_null_share'])\n",
    "feat_research['test_null_share'] = test.isna().sum() / test.shape[0]\n",
    "feat_research['train_dtypes'] = train.dtypes\n",
    "feat_research['train_mean'] = train.mean()\n",
    "feat_research['test_mean'] = test.mean()\n",
    "\n",
    "feat_research"
   ]
  },
  {
   "cell_type": "code",
   "execution_count": 18,
   "metadata": {
    "execution": {
     "iopub.execute_input": "2021-12-04T15:10:53.475305Z",
     "iopub.status.busy": "2021-12-04T15:10:53.474975Z",
     "iopub.status.idle": "2021-12-04T15:10:55.811747Z",
     "shell.execute_reply": "2021-12-04T15:10:55.811084Z",
     "shell.execute_reply.started": "2021-12-04T15:10:53.475274Z"
    },
    "id": "4c463a6a"
   },
   "outputs": [
    {
     "data": {
      "image/png": "[encoded data removed]",
      "text/plain": [
       "<Figure size 1080x1800 with 12 Axes>"
      ]
     },
     "metadata": {
      "needs_background": "light"
     },
     "output_type": "display_data"
    }
   ],
   "source": [
    "# data distribution \n",
    "\n",
    "fig, ax = plt.subplots(len(train.columns)-1, 1)\n",
    "fig.set_figheight(25)\n",
    "fig.set_figwidth(15)\n",
    "\n",
    "\n",
    "for i in range(1, len(test.columns)):\n",
    "    feat = train.columns[i]\n",
    "    ax[i-1].hist(train[feat], label=feat+'_train', alpha=0.5, color='blue')\n",
    "    ax[i-1].hist(test[feat], label=feat+'_test', alpha=0.5, color='red')\n",
    "    ax[i-1].legend()\n",
    "\n",
    "plt.show()"
   ]
  },
  {
   "cell_type": "code",
   "execution_count": 19,
   "metadata": {
    "execution": {
     "iopub.execute_input": "2021-12-04T15:12:43.829693Z",
     "iopub.status.busy": "2021-12-04T15:12:43.829043Z",
     "iopub.status.idle": "2021-12-04T15:12:44.222750Z",
     "shell.execute_reply": "2021-12-04T15:12:44.221766Z",
     "shell.execute_reply.started": "2021-12-04T15:12:43.829639Z"
    },
    "id": "366a75b2"
   },
   "outputs": [
    {
     "data": {
      "image/png": "[encoded data removed]",
      "text/plain": [
       "<Figure size 432x288 with 2 Axes>"
      ]
     },
     "metadata": {
      "needs_background": "light"
     },
     "output_type": "display_data"
    }
   ],
   "source": [
    "# train correlation matrix\n",
    "\n",
    "sns.heatmap(train.corr())\n",
    "plt.title('train_corr')\n",
    "plt.show()"
   ]
  },
  {
   "cell_type": "code",
   "execution_count": 20,
   "metadata": {
    "execution": {
     "iopub.execute_input": "2021-12-04T15:12:46.664366Z",
     "iopub.status.busy": "2021-12-04T15:12:46.664078Z",
     "iopub.status.idle": "2021-12-04T15:12:47.013650Z",
     "shell.execute_reply": "2021-12-04T15:12:47.012769Z",
     "shell.execute_reply.started": "2021-12-04T15:12:46.664337Z"
    },
    "id": "8f89a939"
   },
   "outputs": [
    {
     "data": {
      "image/png": "[encoded data removed]",
      "text/plain": [
       "<Figure size 432x288 with 2 Axes>"
      ]
     },
     "metadata": {
      "needs_background": "light"
     },
     "output_type": "display_data"
    }
   ],
   "source": [
    "# test correlation matrix\n",
    "\n",
    "sns.heatmap(test.corr())\n",
    "plt.title('test_corr')\n",
    "plt.show()"
   ]
  },
  {
   "cell_type": "markdown",
   "metadata": {
    "id": "d3c1ae0a"
   },
   "source": [
    "# Data engineering"
   ]
  },
  {
   "cell_type": "markdown",
   "metadata": {},
   "source": [
    "Process nulls"
   ]
  },
  {
   "cell_type": "code",
   "execution_count": 21,
   "metadata": {
    "execution": {
     "iopub.execute_input": "2021-12-04T15:15:27.654134Z",
     "iopub.status.busy": "2021-12-04T15:15:27.653309Z",
     "iopub.status.idle": "2021-12-04T15:15:27.665855Z",
     "shell.execute_reply": "2021-12-04T15:15:27.665045Z",
     "shell.execute_reply.started": "2021-12-04T15:15:27.654079Z"
    },
    "id": "05fdded0"
   },
   "outputs": [],
   "source": [
    "# fix nulls\n",
    "\n",
    "test['sport'] = test['sport'].median()"
   ]
  },
  {
   "cell_type": "code",
   "execution_count": 22,
   "metadata": {},
   "outputs": [],
   "source": [
    "test['pernicious_1'] = test['pernicious_1'].fillna(0)\n",
    "test['pernicious_2'] = test['pernicious_2'].fillna(0)\n",
    "test['pernicious'] = np.where(test['pernicious_1'] + test['pernicious_2'] > 0, 1, 0)\n",
    "\n",
    "train['pernicious_1'] = train['pernicious_1'].fillna(0)\n",
    "train['pernicious_2'] = train['pernicious_2'].fillna(0)\n",
    "train['pernicious'] = np.where(train['pernicious_1'] + train['pernicious_2'] > 0, 1, 0)"
   ]
  },
  {
   "cell_type": "code",
   "execution_count": 23,
   "metadata": {},
   "outputs": [],
   "source": [
    "train['ubp_danger'] = np.where(train['ubp'] > 160, 1, 0)\n",
    "test['ubp_danger'] = np.where(test['ubp'] > 160, 1, 0)"
   ]
  },
  {
   "cell_type": "code",
   "execution_count": 24,
   "metadata": {},
   "outputs": [],
   "source": [
    "# train['doctor_e'] = np.where(train['doctor'] > 2, 1, 0)\n",
    "# test['doctor_e'] = np.where(test['doctor'] > 2, 1, 0)"
   ]
  },
  {
   "cell_type": "code",
   "execution_count": 25,
   "metadata": {},
   "outputs": [],
   "source": [
    "train['w_ind'] = ((20 * train['weight']) / (train['height'])).astype(int)\n",
    "test['w_ind'] = ((20 * test['weight']) / (test['height'])).astype(int)"
   ]
  },
  {
   "cell_type": "code",
   "execution_count": 26,
   "metadata": {
    "execution": {
     "iopub.execute_input": "2021-12-04T15:15:39.835744Z",
     "iopub.status.busy": "2021-12-04T15:15:39.835323Z",
     "iopub.status.idle": "2021-12-04T15:15:39.860802Z",
     "shell.execute_reply": "2021-12-04T15:15:39.860170Z",
     "shell.execute_reply.started": "2021-12-04T15:15:39.835712Z"
    },
    "id": "b8b5efa8"
   },
   "outputs": [],
   "source": [
    "# one-hot-encoding categorical features\n",
    "\n",
    "stress_train_ohe = pd.get_dummies(train['stress'], prefix='stress').drop(columns='stress_3')\n",
    "stress_test_ohe = pd.get_dummies(test['stress'], prefix='stress').drop(columns='stress_3')\n",
    "\n",
    "train = train.drop(columns='stress')\n",
    "test = test.drop(columns='stress')\n",
    "\n",
    "train = train.join(stress_train_ohe)\n",
    "test = test.join(stress_test_ohe)"
   ]
  },
  {
   "cell_type": "markdown",
   "metadata": {},
   "source": [
    "Drop less correlated with target"
   ]
  },
  {
   "cell_type": "code",
   "execution_count": 27,
   "metadata": {
    "execution": {
     "iopub.execute_input": "2021-12-04T15:12:49.124026Z",
     "iopub.status.busy": "2021-12-04T15:12:49.123757Z",
     "iopub.status.idle": "2021-12-04T15:12:49.135165Z",
     "shell.execute_reply": "2021-12-04T15:12:49.134159Z",
     "shell.execute_reply.started": "2021-12-04T15:12:49.123997Z"
    },
    "id": "0aa228a8"
   },
   "outputs": [],
   "source": [
    "to_drop = ['id', 'pernicious_1', 'pernicious_2', 'height']\n",
    "train = train.drop(columns=to_drop)\n",
    "test = test.drop(columns=to_drop)"
   ]
  },
  {
   "cell_type": "markdown",
   "metadata": {
    "id": "43459044"
   },
   "source": [
    "# Training pipeline"
   ]
  },
  {
   "cell_type": "code",
   "execution_count": 28,
   "metadata": {},
   "outputs": [],
   "source": [
    "from sklearn.linear_model import LogisticRegression\n",
    "from sklearn.preprocessing import StandardScaler\n",
    "from sklearn.pipeline import Pipeline\n",
    "from sklearn.metrics import log_loss\n",
    "from sklearn.preprocessing import PolynomialFeatures\n",
    "from sklearn.model_selection import KFold\n",
    "from sklearn.model_selection import GridSearchCV\n",
    "\n",
    "# CatBoost\n",
    "from catboost import CatBoostClassifier"
   ]
  },
  {
   "cell_type": "code",
   "execution_count": 29,
   "metadata": {
    "execution": {
     "iopub.execute_input": "2021-12-04T15:15:46.840085Z",
     "iopub.status.busy": "2021-12-04T15:15:46.839630Z",
     "iopub.status.idle": "2021-12-04T15:15:46.860678Z",
     "shell.execute_reply": "2021-12-04T15:15:46.859833Z",
     "shell.execute_reply.started": "2021-12-04T15:15:46.840039Z"
    },
    "id": "911911f2"
   },
   "outputs": [],
   "source": [
    "# train-test split\n",
    "\n",
    "X_train, X_val, y_train, y_val = train_test_split(train.drop(columns='insomnia'),\n",
    "                                                  train['insomnia'],\n",
    "                                                  test_size=0.3,\n",
    "                                                  random_state=42)"
   ]
  },
  {
   "cell_type": "code",
   "execution_count": 30,
   "metadata": {
    "execution": {
     "iopub.execute_input": "2021-12-04T15:16:39.099600Z",
     "iopub.status.busy": "2021-12-04T15:16:39.098723Z",
     "iopub.status.idle": "2021-12-04T15:17:37.248881Z",
     "shell.execute_reply": "2021-12-04T15:17:37.247915Z",
     "shell.execute_reply.started": "2021-12-04T15:16:39.099553Z"
    },
    "id": "48821ccb"
   },
   "outputs": [
    {
     "name": "stdout",
     "output_type": "stream",
     "text": [
      "best params: {'cbr__depth': 4, 'cbr__iterations': 50}\n",
      "logloss on best model: 0.5377222554468799\n"
     ]
    }
   ],
   "source": [
    "pipe = Pipeline([('poly', PolynomialFeatures(1)),\n",
    "                 ('scaler', StandardScaler()),\n",
    "                 ('cbr', CatBoostClassifier(\n",
    "                     silent=True,\n",
    "                     random_seed=42,\n",
    "                     eval_metric='AUC',\n",
    "                     loss_function='Logloss')\n",
    "                 ),\n",
    "                ])\n",
    "\n",
    "cbr_par = {\n",
    "    'cbr__iterations': [30, 50],\n",
    "    'cbr__depth': [3, 4],\n",
    "}\n",
    "cbr = CatBoostClassifier(silent=True)\n",
    "cbr_gscv = GridSearchCV(pipe, cbr_par)\n",
    "cbr_gscv.fit(X_train, y_train)\n",
    "cbr_best = cbr_gscv.best_estimator_\n",
    "\n",
    "print('best params: {}'.format(cbr_gscv.best_params_))\n",
    "print('logloss on best model: {}'.format(log_loss(y_val, cbr_best.predict_proba(X_val))))"
   ]
  },
  {
   "cell_type": "code",
   "execution_count": 31,
   "metadata": {},
   "outputs": [],
   "source": [
    "# best:\n",
    "# 0.5366946082632984"
   ]
  },
  {
   "cell_type": "code",
   "execution_count": 32,
   "metadata": {
    "execution": {
     "iopub.execute_input": "2021-12-04T15:17:52.404445Z",
     "iopub.status.busy": "2021-12-04T15:17:52.403934Z",
     "iopub.status.idle": "2021-12-04T15:17:52.413215Z",
     "shell.execute_reply": "2021-12-04T15:17:52.412427Z",
     "shell.execute_reply.started": "2021-12-04T15:17:52.404396Z"
    },
    "id": "8883453d"
   },
   "outputs": [
    {
     "name": "stdout",
     "output_type": "stream",
     "text": [
      "Index(['age', 'weight', 'doctor', 'sport', 'ubp', 'lbp', 'pernicious',\n",
      "       'ubp_danger', 'w_ind', 'stress_1', 'stress_2'],\n",
      "      dtype='object')\n"
     ]
    },
    {
     "data": {
      "text/plain": [
       "array([ 0.        , 20.60685358,  1.93296584,  1.9535113 ,  1.26954272,\n",
       "       48.21079545,  4.96367986,  1.41236975,  0.04834859,  3.50493539,\n",
       "       11.91090447,  4.18609306])"
      ]
     },
     "execution_count": 32,
     "metadata": {},
     "output_type": "execute_result"
    }
   ],
   "source": [
    "# feature importances for best model\n",
    "\n",
    "print(X_train.columns)\n",
    "cbr_best.steps[2][1].feature_importances_"
   ]
  },
  {
   "cell_type": "markdown",
   "metadata": {
    "id": "8e1564a4"
   },
   "source": [
    "### Making a submission "
   ]
  },
  {
   "cell_type": "code",
   "execution_count": 33,
   "metadata": {
    "execution": {
     "iopub.execute_input": "2021-12-04T15:17:59.793384Z",
     "iopub.status.busy": "2021-12-04T15:17:59.793067Z",
     "iopub.status.idle": "2021-12-04T15:18:00.208274Z",
     "shell.execute_reply": "2021-12-04T15:18:00.207462Z",
     "shell.execute_reply.started": "2021-12-04T15:17:59.793349Z"
    },
    "id": "741d97ca"
   },
   "outputs": [
    {
     "data": {
      "image/png": "[encoded data removed]",
      "text/plain": [
       "<Figure size 432x288 with 1 Axes>"
      ]
     },
     "metadata": {
      "needs_background": "light"
     },
     "output_type": "display_data"
    }
   ],
   "source": [
    "test_pred = cbr_best.predict_proba(test)[:, 1]\n",
    "\n",
    "plt.hist(test_pred)\n",
    "plt.title('test pred distribution')\n",
    "plt.show()"
   ]
  },
  {
   "cell_type": "code",
   "execution_count": 34,
   "metadata": {
    "execution": {
     "iopub.execute_input": "2021-12-04T15:18:02.647825Z",
     "iopub.status.busy": "2021-12-04T15:18:02.647458Z",
     "iopub.status.idle": "2021-12-04T15:18:02.661541Z",
     "shell.execute_reply": "2021-12-04T15:18:02.660692Z",
     "shell.execute_reply.started": "2021-12-04T15:18:02.647794Z"
    },
    "id": "81e2051c"
   },
   "outputs": [
    {
     "data": {
      "text/html": [
       "<div>\n",
       "<style scoped>\n",
       "    .dataframe tbody tr th:only-of-type {\n",
       "        vertical-align: middle;\n",
       "    }\n",
       "\n",
       "    .dataframe tbody tr th {\n",
       "        vertical-align: top;\n",
       "    }\n",
       "\n",
       "    .dataframe thead th {\n",
       "        text-align: right;\n",
       "    }\n",
       "</style>\n",
       "<table border=\"1\" class=\"dataframe\">\n",
       "  <thead>\n",
       "    <tr style=\"text-align: right;\">\n",
       "      <th></th>\n",
       "      <th>id</th>\n",
       "      <th>insomnia</th>\n",
       "    </tr>\n",
       "  </thead>\n",
       "  <tbody>\n",
       "    <tr>\n",
       "      <th>0</th>\n",
       "      <td>5</td>\n",
       "      <td>0.557482</td>\n",
       "    </tr>\n",
       "    <tr>\n",
       "      <th>1</th>\n",
       "      <td>6</td>\n",
       "      <td>0.549463</td>\n",
       "    </tr>\n",
       "    <tr>\n",
       "      <th>2</th>\n",
       "      <td>7</td>\n",
       "      <td>0.359697</td>\n",
       "    </tr>\n",
       "    <tr>\n",
       "      <th>3</th>\n",
       "      <td>10</td>\n",
       "      <td>0.519968</td>\n",
       "    </tr>\n",
       "    <tr>\n",
       "      <th>4</th>\n",
       "      <td>11</td>\n",
       "      <td>0.194371</td>\n",
       "    </tr>\n",
       "  </tbody>\n",
       "</table>\n",
       "</div>"
      ],
      "text/plain": [
       "   id  insomnia\n",
       "0   5  0.557482\n",
       "1   6  0.549463\n",
       "2   7  0.359697\n",
       "3  10  0.519968\n",
       "4  11  0.194371"
      ]
     },
     "execution_count": 34,
     "metadata": {},
     "output_type": "execute_result"
    }
   ],
   "source": [
    "test_submission = pd.DataFrame(sample_submission['id'])\n",
    "test_submission['insomnia'] = test_pred\n",
    "test_submission.head()"
   ]
  },
  {
   "cell_type": "code",
   "execution_count": 35,
   "metadata": {
    "execution": {
     "iopub.execute_input": "2021-12-04T15:18:05.585767Z",
     "iopub.status.busy": "2021-12-04T15:18:05.585297Z",
     "iopub.status.idle": "2021-12-04T15:18:05.590908Z",
     "shell.execute_reply": "2021-12-04T15:18:05.590317Z",
     "shell.execute_reply.started": "2021-12-04T15:18:05.585715Z"
    },
    "id": "70a40ddb"
   },
   "outputs": [
    {
     "data": {
      "text/plain": [
       "True"
      ]
     },
     "execution_count": 35,
     "metadata": {},
     "output_type": "execute_result"
    }
   ],
   "source": [
    "# check shapes\n",
    "\n",
    "sample_submission.shape == test_submission.shape"
   ]
  },
  {
   "cell_type": "code",
   "execution_count": 36,
   "metadata": {
    "execution": {
     "iopub.execute_input": "2021-12-04T15:48:09.209757Z",
     "iopub.status.busy": "2021-12-04T15:48:09.209465Z",
     "iopub.status.idle": "2021-12-04T15:48:09.348973Z",
     "shell.execute_reply": "2021-12-04T15:48:09.348026Z",
     "shell.execute_reply.started": "2021-12-04T15:48:09.209724Z"
    },
    "id": "b2c9f53e"
   },
   "outputs": [],
   "source": [
    "test_submission = test_submission.to_csv('out/catboost.csv', index=False)"
   ]
  },
  {
   "cell_type": "code",
   "execution_count": null,
   "metadata": {},
   "outputs": [],
   "source": []
  }
 ],
 "metadata": {
  "kernelspec": {
   "display_name": "Python 3",
   "language": "python",
   "name": "python3"
  },
  "language_info": {
   "codemirror_mode": {
    "name": "ipython",
    "version": 3
   },
   "file_extension": ".py",
   "mimetype": "text/x-python",
   "name": "python",
   "nbconvert_exporter": "python",
   "pygments_lexer": "ipython3",
   "version": "3.9.7"
  }
 },
 "nbformat": 4,
 "nbformat_minor": 4
}
