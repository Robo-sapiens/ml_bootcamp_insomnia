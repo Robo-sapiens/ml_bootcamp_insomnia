{
 "cells": [
  {
   "cell_type": "markdown",
   "metadata": {
    "id": "3a3f2ff3"
   },
   "source": [
    "# Setup"
   ]
  },
  {
   "cell_type": "code",
   "execution_count": 1,
   "metadata": {
    "execution": {
     "iopub.execute_input": "2021-12-04T15:07:47.288500Z",
     "iopub.status.busy": "2021-12-04T15:07:47.287794Z",
     "iopub.status.idle": "2021-12-04T15:07:48.570501Z",
     "shell.execute_reply": "2021-12-04T15:07:48.569594Z",
     "shell.execute_reply.started": "2021-12-04T15:07:47.288371Z"
    },
    "id": "1bd0552c"
   },
   "outputs": [],
   "source": [
    "import numpy as np\n",
    "import pandas as pd\n",
    "import matplotlib.pyplot as plt\n",
    "import seaborn as sns\n",
    "from sklearn.model_selection import train_test_split"
   ]
  },
  {
   "cell_type": "code",
   "execution_count": 2,
   "metadata": {
    "execution": {
     "iopub.execute_input": "2021-12-04T15:07:56.592961Z",
     "iopub.status.busy": "2021-12-04T15:07:56.592441Z",
     "iopub.status.idle": "2021-12-04T15:07:56.831011Z",
     "shell.execute_reply": "2021-12-04T15:07:56.830263Z",
     "shell.execute_reply.started": "2021-12-04T15:07:56.592919Z"
    },
    "id": "b276ecfd"
   },
   "outputs": [],
   "source": [
    "train = pd.read_csv('data/TRAIN.csv')\n",
    "test = pd.read_csv('data/TEST.csv')\n",
    "sample_submission = pd.read_csv('data/sample_submission.csv')"
   ]
  },
  {
   "cell_type": "code",
   "execution_count": 3,
   "metadata": {},
   "outputs": [],
   "source": [
    "bins = [0, 30, 40, 50, 60, np.inf]\n",
    "\n",
    "train['age'] = pd.cut(train['age'], bins, labels=False)\n",
    "test['age'] = pd.cut(test['age'], bins, labels=False)"
   ]
  },
  {
   "cell_type": "code",
   "execution_count": 4,
   "metadata": {},
   "outputs": [],
   "source": [
    "bins = [0, 30, 50, 60, 70, 80, 90, 100, np.inf]\n",
    "\n",
    "train['weight'] = pd.cut(train['weight'], bins, labels=False)\n",
    "test['weight'] = pd.cut(test['weight'], bins, labels=False)"
   ]
  },
  {
   "cell_type": "code",
   "execution_count": 5,
   "metadata": {
    "execution": {
     "iopub.execute_input": "2021-12-04T15:08:09.099200Z",
     "iopub.status.busy": "2021-12-04T15:08:09.098241Z",
     "iopub.status.idle": "2021-12-04T15:08:09.123955Z",
     "shell.execute_reply": "2021-12-04T15:08:09.123402Z",
     "shell.execute_reply.started": "2021-12-04T15:08:09.099141Z"
    },
    "id": "6ac51745"
   },
   "outputs": [
    {
     "name": "stdout",
     "output_type": "stream",
     "text": [
      "train, test, sample_submission shapes\n",
      "(70000, 13) (30000, 12) (30000, 2)\n"
     ]
    },
    {
     "data": {
      "text/html": [
       "<div>\n",
       "<style scoped>\n",
       "    .dataframe tbody tr th:only-of-type {\n",
       "        vertical-align: middle;\n",
       "    }\n",
       "\n",
       "    .dataframe tbody tr th {\n",
       "        vertical-align: top;\n",
       "    }\n",
       "\n",
       "    .dataframe thead th {\n",
       "        text-align: right;\n",
       "    }\n",
       "</style>\n",
       "<table border=\"1\" class=\"dataframe\">\n",
       "  <thead>\n",
       "    <tr style=\"text-align: right;\">\n",
       "      <th></th>\n",
       "      <th>id</th>\n",
       "      <th>age</th>\n",
       "      <th>weight</th>\n",
       "      <th>height</th>\n",
       "      <th>sex</th>\n",
       "      <th>stress</th>\n",
       "      <th>doctor</th>\n",
       "      <th>sport</th>\n",
       "      <th>pernicious_1</th>\n",
       "      <th>pernicious_2</th>\n",
       "      <th>ubp</th>\n",
       "      <th>lbp</th>\n",
       "      <th>insomnia</th>\n",
       "    </tr>\n",
       "  </thead>\n",
       "  <tbody>\n",
       "    <tr>\n",
       "      <th>0</th>\n",
       "      <td>0</td>\n",
       "      <td>3</td>\n",
       "      <td>3</td>\n",
       "      <td>168</td>\n",
       "      <td>2</td>\n",
       "      <td>1</td>\n",
       "      <td>1</td>\n",
       "      <td>1</td>\n",
       "      <td>0</td>\n",
       "      <td>0</td>\n",
       "      <td>110</td>\n",
       "      <td>80</td>\n",
       "      <td>0</td>\n",
       "    </tr>\n",
       "    <tr>\n",
       "      <th>1</th>\n",
       "      <td>1</td>\n",
       "      <td>3</td>\n",
       "      <td>5</td>\n",
       "      <td>156</td>\n",
       "      <td>1</td>\n",
       "      <td>3</td>\n",
       "      <td>1</td>\n",
       "      <td>1</td>\n",
       "      <td>0</td>\n",
       "      <td>0</td>\n",
       "      <td>140</td>\n",
       "      <td>90</td>\n",
       "      <td>1</td>\n",
       "    </tr>\n",
       "    <tr>\n",
       "      <th>2</th>\n",
       "      <td>2</td>\n",
       "      <td>3</td>\n",
       "      <td>3</td>\n",
       "      <td>165</td>\n",
       "      <td>1</td>\n",
       "      <td>3</td>\n",
       "      <td>1</td>\n",
       "      <td>0</td>\n",
       "      <td>0</td>\n",
       "      <td>0</td>\n",
       "      <td>130</td>\n",
       "      <td>70</td>\n",
       "      <td>1</td>\n",
       "    </tr>\n",
       "    <tr>\n",
       "      <th>3</th>\n",
       "      <td>3</td>\n",
       "      <td>2</td>\n",
       "      <td>5</td>\n",
       "      <td>169</td>\n",
       "      <td>2</td>\n",
       "      <td>1</td>\n",
       "      <td>1</td>\n",
       "      <td>1</td>\n",
       "      <td>0</td>\n",
       "      <td>0</td>\n",
       "      <td>150</td>\n",
       "      <td>100</td>\n",
       "      <td>1</td>\n",
       "    </tr>\n",
       "    <tr>\n",
       "      <th>4</th>\n",
       "      <td>4</td>\n",
       "      <td>2</td>\n",
       "      <td>2</td>\n",
       "      <td>156</td>\n",
       "      <td>1</td>\n",
       "      <td>1</td>\n",
       "      <td>1</td>\n",
       "      <td>0</td>\n",
       "      <td>0</td>\n",
       "      <td>0</td>\n",
       "      <td>100</td>\n",
       "      <td>60</td>\n",
       "      <td>0</td>\n",
       "    </tr>\n",
       "  </tbody>\n",
       "</table>\n",
       "</div>"
      ],
      "text/plain": [
       "   id  age  weight  height  sex  stress  doctor  sport  pernicious_1  \\\n",
       "0   0    3       3     168    2       1       1      1             0   \n",
       "1   1    3       5     156    1       3       1      1             0   \n",
       "2   2    3       3     165    1       3       1      0             0   \n",
       "3   3    2       5     169    2       1       1      1             0   \n",
       "4   4    2       2     156    1       1       1      0             0   \n",
       "\n",
       "   pernicious_2  ubp  lbp  insomnia  \n",
       "0             0  110   80         0  \n",
       "1             0  140   90         1  \n",
       "2             0  130   70         1  \n",
       "3             0  150  100         1  \n",
       "4             0  100   60         0  "
      ]
     },
     "execution_count": 5,
     "metadata": {},
     "output_type": "execute_result"
    }
   ],
   "source": [
    "print('train, test, sample_submission shapes')\n",
    "print(train.shape, test.shape, sample_submission.shape)\n",
    "train.head(5)"
   ]
  },
  {
   "cell_type": "markdown",
   "metadata": {
    "id": "55c0982a"
   },
   "source": [
    "# Data analysis"
   ]
  },
  {
   "cell_type": "code",
   "execution_count": 6,
   "metadata": {
    "execution": {
     "iopub.execute_input": "2021-12-04T15:09:12.535796Z",
     "iopub.status.busy": "2021-12-04T15:09:12.535259Z",
     "iopub.status.idle": "2021-12-04T15:09:12.574454Z",
     "shell.execute_reply": "2021-12-04T15:09:12.573453Z",
     "shell.execute_reply.started": "2021-12-04T15:09:12.535761Z"
    },
    "id": "20c0010b"
   },
   "outputs": [
    {
     "data": {
      "text/html": [
       "<div>\n",
       "<style scoped>\n",
       "    .dataframe tbody tr th:only-of-type {\n",
       "        vertical-align: middle;\n",
       "    }\n",
       "\n",
       "    .dataframe tbody tr th {\n",
       "        vertical-align: top;\n",
       "    }\n",
       "\n",
       "    .dataframe thead th {\n",
       "        text-align: right;\n",
       "    }\n",
       "</style>\n",
       "<table border=\"1\" class=\"dataframe\">\n",
       "  <thead>\n",
       "    <tr style=\"text-align: right;\">\n",
       "      <th></th>\n",
       "      <th>train_null_share</th>\n",
       "      <th>test_null_share</th>\n",
       "      <th>train_dtypes</th>\n",
       "      <th>train_mean</th>\n",
       "      <th>test_mean</th>\n",
       "    </tr>\n",
       "  </thead>\n",
       "  <tbody>\n",
       "    <tr>\n",
       "      <th>id</th>\n",
       "      <td>0.0</td>\n",
       "      <td>0.000000</td>\n",
       "      <td>int64</td>\n",
       "      <td>49972.419900</td>\n",
       "      <td>50062.686900</td>\n",
       "    </tr>\n",
       "    <tr>\n",
       "      <th>age</th>\n",
       "      <td>0.0</td>\n",
       "      <td>0.000000</td>\n",
       "      <td>int64</td>\n",
       "      <td>2.845800</td>\n",
       "      <td>2.844733</td>\n",
       "    </tr>\n",
       "    <tr>\n",
       "      <th>weight</th>\n",
       "      <td>0.0</td>\n",
       "      <td>0.000000</td>\n",
       "      <td>int64</td>\n",
       "      <td>3.795200</td>\n",
       "      <td>3.787500</td>\n",
       "    </tr>\n",
       "    <tr>\n",
       "      <th>height</th>\n",
       "      <td>0.0</td>\n",
       "      <td>0.000000</td>\n",
       "      <td>int64</td>\n",
       "      <td>164.359229</td>\n",
       "      <td>164.322267</td>\n",
       "    </tr>\n",
       "    <tr>\n",
       "      <th>sex</th>\n",
       "      <td>0.0</td>\n",
       "      <td>0.000000</td>\n",
       "      <td>int64</td>\n",
       "      <td>1.349571</td>\n",
       "      <td>1.353733</td>\n",
       "    </tr>\n",
       "    <tr>\n",
       "      <th>stress</th>\n",
       "      <td>0.0</td>\n",
       "      <td>0.000000</td>\n",
       "      <td>int64</td>\n",
       "      <td>1.366871</td>\n",
       "      <td>1.368033</td>\n",
       "    </tr>\n",
       "    <tr>\n",
       "      <th>doctor</th>\n",
       "      <td>0.0</td>\n",
       "      <td>0.000000</td>\n",
       "      <td>int64</td>\n",
       "      <td>1.226457</td>\n",
       "      <td>1.222700</td>\n",
       "    </tr>\n",
       "    <tr>\n",
       "      <th>sport</th>\n",
       "      <td>0.0</td>\n",
       "      <td>0.096567</td>\n",
       "      <td>int64</td>\n",
       "      <td>0.803729</td>\n",
       "      <td>0.805926</td>\n",
       "    </tr>\n",
       "    <tr>\n",
       "      <th>pernicious_1</th>\n",
       "      <td>0.0</td>\n",
       "      <td>0.101000</td>\n",
       "      <td>int64</td>\n",
       "      <td>0.088129</td>\n",
       "      <td>0.087838</td>\n",
       "    </tr>\n",
       "    <tr>\n",
       "      <th>pernicious_2</th>\n",
       "      <td>0.0</td>\n",
       "      <td>0.101033</td>\n",
       "      <td>int64</td>\n",
       "      <td>0.053771</td>\n",
       "      <td>0.054470</td>\n",
       "    </tr>\n",
       "    <tr>\n",
       "      <th>ubp</th>\n",
       "      <td>0.0</td>\n",
       "      <td>0.000000</td>\n",
       "      <td>int64</td>\n",
       "      <td>128.817286</td>\n",
       "      <td>130.271300</td>\n",
       "    </tr>\n",
       "    <tr>\n",
       "      <th>lbp</th>\n",
       "      <td>0.0</td>\n",
       "      <td>0.000000</td>\n",
       "      <td>int64</td>\n",
       "      <td>96.630414</td>\n",
       "      <td>95.689000</td>\n",
       "    </tr>\n",
       "    <tr>\n",
       "      <th>insomnia</th>\n",
       "      <td>0.0</td>\n",
       "      <td>NaN</td>\n",
       "      <td>int64</td>\n",
       "      <td>0.499700</td>\n",
       "      <td>NaN</td>\n",
       "    </tr>\n",
       "  </tbody>\n",
       "</table>\n",
       "</div>"
      ],
      "text/plain": [
       "              train_null_share  test_null_share train_dtypes    train_mean  \\\n",
       "id                         0.0         0.000000        int64  49972.419900   \n",
       "age                        0.0         0.000000        int64      2.845800   \n",
       "weight                     0.0         0.000000        int64      3.795200   \n",
       "height                     0.0         0.000000        int64    164.359229   \n",
       "sex                        0.0         0.000000        int64      1.349571   \n",
       "stress                     0.0         0.000000        int64      1.366871   \n",
       "doctor                     0.0         0.000000        int64      1.226457   \n",
       "sport                      0.0         0.096567        int64      0.803729   \n",
       "pernicious_1               0.0         0.101000        int64      0.088129   \n",
       "pernicious_2               0.0         0.101033        int64      0.053771   \n",
       "ubp                        0.0         0.000000        int64    128.817286   \n",
       "lbp                        0.0         0.000000        int64     96.630414   \n",
       "insomnia                   0.0              NaN        int64      0.499700   \n",
       "\n",
       "                 test_mean  \n",
       "id            50062.686900  \n",
       "age               2.844733  \n",
       "weight            3.787500  \n",
       "height          164.322267  \n",
       "sex               1.353733  \n",
       "stress            1.368033  \n",
       "doctor            1.222700  \n",
       "sport             0.805926  \n",
       "pernicious_1      0.087838  \n",
       "pernicious_2      0.054470  \n",
       "ubp             130.271300  \n",
       "lbp              95.689000  \n",
       "insomnia               NaN  "
      ]
     },
     "execution_count": 6,
     "metadata": {},
     "output_type": "execute_result"
    }
   ],
   "source": [
    "feat_research = pd.DataFrame(train.isna().sum() / train.shape[0], columns=['train_null_share'])\n",
    "feat_research['test_null_share'] = test.isna().sum() / test.shape[0]\n",
    "feat_research['train_dtypes'] = train.dtypes\n",
    "feat_research['train_mean'] = train.mean()\n",
    "feat_research['test_mean'] = test.mean()\n",
    "\n",
    "feat_research"
   ]
  },
  {
   "cell_type": "code",
   "execution_count": 7,
   "metadata": {
    "execution": {
     "iopub.execute_input": "2021-12-04T15:10:53.475305Z",
     "iopub.status.busy": "2021-12-04T15:10:53.474975Z",
     "iopub.status.idle": "2021-12-04T15:10:55.811747Z",
     "shell.execute_reply": "2021-12-04T15:10:55.811084Z",
     "shell.execute_reply.started": "2021-12-04T15:10:53.475274Z"
    },
    "id": "4c463a6a"
   },
   "outputs": [
    {
     "data": {
      "image/png": "[encoded data removed]",
      "text/plain": [
       "<Figure size 1080x1800 with 12 Axes>"
      ]
     },
     "metadata": {
      "needs_background": "light"
     },
     "output_type": "display_data"
    }
   ],
   "source": [
    "# data distribution \n",
    "\n",
    "fig, ax = plt.subplots(len(train.columns)-1, 1)\n",
    "fig.set_figheight(25)\n",
    "fig.set_figwidth(15)\n",
    "\n",
    "\n",
    "for i in range(1, len(test.columns)):\n",
    "    feat = train.columns[i]\n",
    "    ax[i-1].hist(train[feat], label=feat+'_train', alpha=0.5, color='blue')\n",
    "    ax[i-1].hist(test[feat], label=feat+'_test', alpha=0.5, color='red')\n",
    "    ax[i-1].legend()\n",
    "\n",
    "plt.show()"
   ]
  },
  {
   "cell_type": "code",
   "execution_count": 8,
   "metadata": {
    "execution": {
     "iopub.execute_input": "2021-12-04T15:12:43.829693Z",
     "iopub.status.busy": "2021-12-04T15:12:43.829043Z",
     "iopub.status.idle": "2021-12-04T15:12:44.222750Z",
     "shell.execute_reply": "2021-12-04T15:12:44.221766Z",
     "shell.execute_reply.started": "2021-12-04T15:12:43.829639Z"
    },
    "id": "366a75b2"
   },
   "outputs": [
    {
     "data": {
      "image/png": "[encoded data removed]",
      "text/plain": [
       "<Figure size 432x288 with 2 Axes>"
      ]
     },
     "metadata": {
      "needs_background": "light"
     },
     "output_type": "display_data"
    }
   ],
   "source": [
    "# train correlation matrix\n",
    "\n",
    "sns.heatmap(train.corr(), annot=False)\n",
    "plt.title('train_corr')\n",
    "plt.show()"
   ]
  },
  {
   "cell_type": "code",
   "execution_count": 9,
   "metadata": {
    "execution": {
     "iopub.execute_input": "2021-12-04T15:12:46.664366Z",
     "iopub.status.busy": "2021-12-04T15:12:46.664078Z",
     "iopub.status.idle": "2021-12-04T15:12:47.013650Z",
     "shell.execute_reply": "2021-12-04T15:12:47.012769Z",
     "shell.execute_reply.started": "2021-12-04T15:12:46.664337Z"
    },
    "id": "8f89a939"
   },
   "outputs": [
    {
     "data": {
      "image/png": "[encoded data removed]",
      "text/plain": [
       "<Figure size 432x288 with 2 Axes>"
      ]
     },
     "metadata": {
      "needs_background": "light"
     },
     "output_type": "display_data"
    }
   ],
   "source": [
    "# test correlation matrix\n",
    "\n",
    "sns.heatmap(test.corr())\n",
    "plt.title('test_corr')\n",
    "plt.show()"
   ]
  },
  {
   "cell_type": "markdown",
   "metadata": {
    "id": "d3c1ae0a"
   },
   "source": [
    "# Data engineering"
   ]
  },
  {
   "cell_type": "markdown",
   "metadata": {},
   "source": [
    "Drop less correlated with target"
   ]
  },
  {
   "cell_type": "code",
   "execution_count": 10,
   "metadata": {
    "execution": {
     "iopub.execute_input": "2021-12-04T15:12:49.124026Z",
     "iopub.status.busy": "2021-12-04T15:12:49.123757Z",
     "iopub.status.idle": "2021-12-04T15:12:49.135165Z",
     "shell.execute_reply": "2021-12-04T15:12:49.134159Z",
     "shell.execute_reply.started": "2021-12-04T15:12:49.123997Z"
    },
    "id": "0aa228a8"
   },
   "outputs": [],
   "source": [
    "to_drop = ['id', 'sex', 'pernicious_1', 'pernicious_2']\n",
    "train = train.drop(columns=to_drop)\n",
    "test = test.drop(columns=to_drop)"
   ]
  },
  {
   "cell_type": "markdown",
   "metadata": {},
   "source": [
    "Process nulls"
   ]
  },
  {
   "cell_type": "code",
   "execution_count": 11,
   "metadata": {
    "execution": {
     "iopub.execute_input": "2021-12-04T15:15:27.654134Z",
     "iopub.status.busy": "2021-12-04T15:15:27.653309Z",
     "iopub.status.idle": "2021-12-04T15:15:27.665855Z",
     "shell.execute_reply": "2021-12-04T15:15:27.665045Z",
     "shell.execute_reply.started": "2021-12-04T15:15:27.654079Z"
    },
    "id": "05fdded0"
   },
   "outputs": [],
   "source": [
    "# fix nulls\n",
    "\n",
    "# pernicious_1 & pernicious_2 correelate with *sex* a little\n",
    "# so fill nulls with regard to it:\n",
    "# 1 for *sex* == 2 and 0, otherwise\n",
    "\n",
    "# pernicious_1_nan_male = np.where((np.isnan(test['pernicious_1']) & (test['sex']==2)),\n",
    "#                                   1,\n",
    "#                                   test['pernicious_1'])\n",
    "# test['pernicious_1'] = pernicious_1_nan_male\n",
    "# test['pernicious_1'] = test['pernicious_1'].fillna(0)\n",
    "\n",
    "# pernicious_2_nan_male = np.where((np.isnan(test['pernicious_2']) & (test['sex']==2)), \n",
    "#                                1, \n",
    "#                                test['pernicious_2'])\n",
    "\n",
    "# test['pernicious_2'] = pernicious_2_nan_male\n",
    "# test['pernicious_2'] = test['pernicious_2'].fillna(0)\n",
    "\n",
    "# fill in *sport* with median\n",
    "test['sport'] = test['sport'].median()"
   ]
  },
  {
   "cell_type": "code",
   "execution_count": 12,
   "metadata": {
    "execution": {
     "iopub.execute_input": "2021-12-04T15:15:39.835744Z",
     "iopub.status.busy": "2021-12-04T15:15:39.835323Z",
     "iopub.status.idle": "2021-12-04T15:15:39.860802Z",
     "shell.execute_reply": "2021-12-04T15:15:39.860170Z",
     "shell.execute_reply.started": "2021-12-04T15:15:39.835712Z"
    },
    "id": "b8b5efa8"
   },
   "outputs": [],
   "source": [
    "# one-hot-encoding categorical features\n",
    "\n",
    "stress_train_ohe = pd.get_dummies(train['stress'], prefix='stress').drop(columns='stress_3')\n",
    "stress_test_ohe = pd.get_dummies(test['stress'], prefix='stress').drop(columns='stress_3')\n",
    "\n",
    "train = train.drop(columns='stress')\n",
    "test = test.drop(columns='stress')\n",
    "\n",
    "train = train.join(stress_train_ohe)\n",
    "test = test.join(stress_test_ohe)"
   ]
  },
  {
   "cell_type": "markdown",
   "metadata": {
    "id": "43459044"
   },
   "source": [
    "# Training pipeline"
   ]
  },
  {
   "cell_type": "code",
   "execution_count": 13,
   "metadata": {},
   "outputs": [],
   "source": [
    "from sklearn.svm import SVC\n",
    "from sklearn.linear_model import LogisticRegression\n",
    "from sklearn.preprocessing import StandardScaler\n",
    "from sklearn.pipeline import Pipeline\n",
    "from sklearn.metrics import log_loss\n",
    "from sklearn.preprocessing import PolynomialFeatures\n",
    "from sklearn.model_selection import KFold\n",
    "from sklearn.model_selection import GridSearchCV\n",
    "\n",
    "# CatBoost\n",
    "from catboost import CatBoostClassifier"
   ]
  },
  {
   "cell_type": "code",
   "execution_count": 14,
   "metadata": {
    "execution": {
     "iopub.execute_input": "2021-12-04T15:15:46.840085Z",
     "iopub.status.busy": "2021-12-04T15:15:46.839630Z",
     "iopub.status.idle": "2021-12-04T15:15:46.860678Z",
     "shell.execute_reply": "2021-12-04T15:15:46.859833Z",
     "shell.execute_reply.started": "2021-12-04T15:15:46.840039Z"
    },
    "id": "911911f2"
   },
   "outputs": [],
   "source": [
    "# train-test split\n",
    "\n",
    "X_train, X_val, y_train, y_val = train_test_split(train.drop(columns='insomnia'),\n",
    "                                                  train['insomnia'],\n",
    "                                                  test_size=0.3,\n",
    "                                                  random_state=42)"
   ]
  },
  {
   "cell_type": "code",
   "execution_count": 15,
   "metadata": {
    "execution": {
     "iopub.execute_input": "2021-12-04T15:16:39.099600Z",
     "iopub.status.busy": "2021-12-04T15:16:39.098723Z",
     "iopub.status.idle": "2021-12-04T15:17:37.248881Z",
     "shell.execute_reply": "2021-12-04T15:17:37.247915Z",
     "shell.execute_reply.started": "2021-12-04T15:16:39.099553Z"
    },
    "id": "48821ccb"
   },
   "outputs": [
    {
     "name": "stdout",
     "output_type": "stream",
     "text": [
      "best params: {'cbr__iterations': 50}\n",
      "logloss on best model: 0.5421713431468669\n"
     ]
    }
   ],
   "source": [
    "# catboostclassifier gridsearchcv\n",
    "\n",
    "pipe = Pipeline([('poly', PolynomialFeatures(1)),\n",
    "                 ('scaler', StandardScaler()),\n",
    "                 ('cbr', CatBoostClassifier(\n",
    "                     silent=True,\n",
    "                     random_seed=42,\n",
    "                     min_data_in_leaf=3,\n",
    "                     max_leaves=8,\n",
    "                     loss_function='Logloss',\n",
    "                     depth=3)\n",
    "                 ),\n",
    "                ])\n",
    "\n",
    "cbr_par = {'cbr__iterations': [50]}\n",
    "cbr = CatBoostClassifier(silent=True)\n",
    "cbr_gscv = GridSearchCV(pipe, cbr_par)\n",
    "cbr_gscv.fit(X_train, y_train)\n",
    "cbr_best = cbr_gscv.best_estimator_\n",
    "\n",
    "print('best params: {}'.format(cbr_gscv.best_params_))\n",
    "print('logloss on best model: {}'.format(log_loss(y_val, cbr_best.predict_proba(X_val))))"
   ]
  },
  {
   "cell_type": "code",
   "execution_count": 16,
   "metadata": {},
   "outputs": [],
   "source": [
    "# best:\n",
    "# 0.5389289572728002\n",
    "# 0.5421713431468669"
   ]
  },
  {
   "cell_type": "code",
   "execution_count": 17,
   "metadata": {
    "execution": {
     "iopub.execute_input": "2021-12-04T15:17:52.404445Z",
     "iopub.status.busy": "2021-12-04T15:17:52.403934Z",
     "iopub.status.idle": "2021-12-04T15:17:52.413215Z",
     "shell.execute_reply": "2021-12-04T15:17:52.412427Z",
     "shell.execute_reply.started": "2021-12-04T15:17:52.404396Z"
    },
    "id": "8883453d"
   },
   "outputs": [
    {
     "name": "stdout",
     "output_type": "stream",
     "text": [
      "Index(['age', 'weight', 'height', 'doctor', 'sport', 'ubp', 'lbp', 'stress_1',\n",
      "       'stress_2'],\n",
      "      dtype='object')\n"
     ]
    },
    {
     "data": {
      "text/plain": [
       "array([ 0.        , 15.55615066,  3.40070479,  1.12106117,  1.19408681,\n",
       "        1.14998375, 56.01973766,  3.88664418, 13.21283229,  4.4587987 ])"
      ]
     },
     "execution_count": 17,
     "metadata": {},
     "output_type": "execute_result"
    }
   ],
   "source": [
    "# feature importances for best model\n",
    "\n",
    "print(X_train.columns)\n",
    "cbr_best.steps[2][1].feature_importances_"
   ]
  },
  {
   "cell_type": "code",
   "execution_count": 18,
   "metadata": {},
   "outputs": [],
   "source": [
    "# weight 3.94701318"
   ]
  },
  {
   "cell_type": "markdown",
   "metadata": {
    "id": "8e1564a4"
   },
   "source": [
    "### Making a submission "
   ]
  },
  {
   "cell_type": "code",
   "execution_count": 19,
   "metadata": {
    "execution": {
     "iopub.execute_input": "2021-12-04T15:17:59.793384Z",
     "iopub.status.busy": "2021-12-04T15:17:59.793067Z",
     "iopub.status.idle": "2021-12-04T15:18:00.208274Z",
     "shell.execute_reply": "2021-12-04T15:18:00.207462Z",
     "shell.execute_reply.started": "2021-12-04T15:17:59.793349Z"
    },
    "id": "741d97ca"
   },
   "outputs": [
    {
     "data": {
      "image/png": "[encoded data removed]",
      "text/plain": [
       "<Figure size 432x288 with 1 Axes>"
      ]
     },
     "metadata": {
      "needs_background": "light"
     },
     "output_type": "display_data"
    }
   ],
   "source": [
    "test_pred = cbr_best.predict_proba(test)[:, 1]\n",
    "# test_pred = pipe.predict(test)\n",
    "\n",
    "plt.hist(test_pred)\n",
    "plt.title('test pred distribution')\n",
    "plt.show()"
   ]
  },
  {
   "cell_type": "code",
   "execution_count": 20,
   "metadata": {
    "execution": {
     "iopub.execute_input": "2021-12-04T15:18:02.647825Z",
     "iopub.status.busy": "2021-12-04T15:18:02.647458Z",
     "iopub.status.idle": "2021-12-04T15:18:02.661541Z",
     "shell.execute_reply": "2021-12-04T15:18:02.660692Z",
     "shell.execute_reply.started": "2021-12-04T15:18:02.647794Z"
    },
    "id": "81e2051c"
   },
   "outputs": [
    {
     "data": {
      "text/html": [
       "<div>\n",
       "<style scoped>\n",
       "    .dataframe tbody tr th:only-of-type {\n",
       "        vertical-align: middle;\n",
       "    }\n",
       "\n",
       "    .dataframe tbody tr th {\n",
       "        vertical-align: top;\n",
       "    }\n",
       "\n",
       "    .dataframe thead th {\n",
       "        text-align: right;\n",
       "    }\n",
       "</style>\n",
       "<table border=\"1\" class=\"dataframe\">\n",
       "  <thead>\n",
       "    <tr style=\"text-align: right;\">\n",
       "      <th></th>\n",
       "      <th>id</th>\n",
       "      <th>insomnia</th>\n",
       "    </tr>\n",
       "  </thead>\n",
       "  <tbody>\n",
       "    <tr>\n",
       "      <th>0</th>\n",
       "      <td>5</td>\n",
       "      <td>0.559972</td>\n",
       "    </tr>\n",
       "    <tr>\n",
       "      <th>1</th>\n",
       "      <td>6</td>\n",
       "      <td>0.565663</td>\n",
       "    </tr>\n",
       "    <tr>\n",
       "      <th>2</th>\n",
       "      <td>7</td>\n",
       "      <td>0.286871</td>\n",
       "    </tr>\n",
       "    <tr>\n",
       "      <th>3</th>\n",
       "      <td>10</td>\n",
       "      <td>0.435136</td>\n",
       "    </tr>\n",
       "    <tr>\n",
       "      <th>4</th>\n",
       "      <td>11</td>\n",
       "      <td>0.215237</td>\n",
       "    </tr>\n",
       "  </tbody>\n",
       "</table>\n",
       "</div>"
      ],
      "text/plain": [
       "   id  insomnia\n",
       "0   5  0.559972\n",
       "1   6  0.565663\n",
       "2   7  0.286871\n",
       "3  10  0.435136\n",
       "4  11  0.215237"
      ]
     },
     "execution_count": 20,
     "metadata": {},
     "output_type": "execute_result"
    }
   ],
   "source": [
    "test_submission = pd.DataFrame(sample_submission['id'])\n",
    "test_submission['insomnia'] = test_pred\n",
    "test_submission.head()"
   ]
  },
  {
   "cell_type": "code",
   "execution_count": 21,
   "metadata": {
    "execution": {
     "iopub.execute_input": "2021-12-04T15:18:05.585767Z",
     "iopub.status.busy": "2021-12-04T15:18:05.585297Z",
     "iopub.status.idle": "2021-12-04T15:18:05.590908Z",
     "shell.execute_reply": "2021-12-04T15:18:05.590317Z",
     "shell.execute_reply.started": "2021-12-04T15:18:05.585715Z"
    },
    "id": "70a40ddb"
   },
   "outputs": [
    {
     "data": {
      "text/plain": [
       "True"
      ]
     },
     "execution_count": 21,
     "metadata": {},
     "output_type": "execute_result"
    }
   ],
   "source": [
    "# check shapes\n",
    "\n",
    "sample_submission.shape == test_submission.shape"
   ]
  },
  {
   "cell_type": "code",
   "execution_count": 22,
   "metadata": {
    "execution": {
     "iopub.execute_input": "2021-12-04T15:48:09.209757Z",
     "iopub.status.busy": "2021-12-04T15:48:09.209465Z",
     "iopub.status.idle": "2021-12-04T15:48:09.348973Z",
     "shell.execute_reply": "2021-12-04T15:48:09.348026Z",
     "shell.execute_reply.started": "2021-12-04T15:48:09.209724Z"
    },
    "id": "b2c9f53e"
   },
   "outputs": [],
   "source": [
    "test_submission = test_submission.to_csv('out/catboost.csv', index=False)"
   ]
  },
  {
   "cell_type": "code",
   "execution_count": null,
   "metadata": {},
   "outputs": [],
   "source": []
  }
 ],
 "metadata": {
  "kernelspec": {
   "display_name": "Python 3",
   "language": "python",
   "name": "python3"
  },
  "language_info": {
   "codemirror_mode": {
    "name": "ipython",
    "version": 3
   },
   "file_extension": ".py",
   "mimetype": "text/x-python",
   "name": "python",
   "nbconvert_exporter": "python",
   "pygments_lexer": "ipython3",
   "version": "3.9.7"
  }
 },
 "nbformat": 4,
 "nbformat_minor": 4
}
